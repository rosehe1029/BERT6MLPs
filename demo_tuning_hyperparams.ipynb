{
 "cells": [
  {
   "cell_type": "markdown",
   "metadata": {},
   "source": [
    "# tuning hyperparameters\n",
    "\n",
    "We will do a simple example of tuning hyperparameters using sklearn's [model_selection.GridSearchCV](https://scikit-learn.org/stable/modules/generated/sklearn.model_selection.GridSearchCV.html)\n",
    "\n",
    "## get data\n",
    "\n",
    "We will use the SST-2 (Stanford Sentiment Treebank) data set.\n",
    "\n",
    "The input features are short sentences and the labels are the standard sentiment polarity of:\n",
    "*    0 for negative \n",
    "*    1 for positive."
   ]
  },
  {
   "cell_type": "code",
   "execution_count": 1,
   "metadata": {},
   "outputs": [
    {
     "name": "stdout",
     "output_type": "stream",
     "text": [
      "Downloading and extracting SST...\n",
      "\tCompleted!\n"
     ]
    }
   ],
   "source": [
    "%%bash\n",
    "python3 ./glue_examples/download_glue_data.py --data_dir ./glue_examples//glue_data --tasks SST "
   ]
  },
  {
   "cell_type": "code",
   "execution_count": 1,
   "metadata": {},
   "outputs": [
    {
     "name": "stdout",
     "output_type": "stream",
     "text": [
      "SST-2 train data size: 67349 \n",
      "SST-2 dev data size: 872 \n"
     ]
    },
    {
     "data": {
      "text/html": [
       "<div>\n",
       "<style scoped>\n",
       "    .dataframe tbody tr th:only-of-type {\n",
       "        vertical-align: middle;\n",
       "    }\n",
       "\n",
       "    .dataframe tbody tr th {\n",
       "        vertical-align: top;\n",
       "    }\n",
       "\n",
       "    .dataframe thead th {\n",
       "        text-align: right;\n",
       "    }\n",
       "</style>\n",
       "<table border=\"1\" class=\"dataframe\">\n",
       "  <thead>\n",
       "    <tr style=\"text-align: right;\">\n",
       "      <th></th>\n",
       "      <th>text</th>\n",
       "      <th>label</th>\n",
       "    </tr>\n",
       "  </thead>\n",
       "  <tbody>\n",
       "    <tr>\n",
       "      <th>66730</th>\n",
       "      <td>with outtakes in which most of the characters ...</td>\n",
       "      <td>0</td>\n",
       "    </tr>\n",
       "    <tr>\n",
       "      <th>29890</th>\n",
       "      <td>enigma is well-made</td>\n",
       "      <td>1</td>\n",
       "    </tr>\n",
       "    <tr>\n",
       "      <th>45801</th>\n",
       "      <td>is ) so stoked to make an important film about...</td>\n",
       "      <td>0</td>\n",
       "    </tr>\n",
       "    <tr>\n",
       "      <th>29352</th>\n",
       "      <td>the closest thing to the experience of space t...</td>\n",
       "      <td>1</td>\n",
       "    </tr>\n",
       "    <tr>\n",
       "      <th>19858</th>\n",
       "      <td>lose their luster</td>\n",
       "      <td>0</td>\n",
       "    </tr>\n",
       "  </tbody>\n",
       "</table>\n",
       "</div>"
      ],
      "text/plain": [
       "                                                    text  label\n",
       "66730  with outtakes in which most of the characters ...      0\n",
       "29890                               enigma is well-made       1\n",
       "45801  is ) so stoked to make an important film about...      0\n",
       "29352  the closest thing to the experience of space t...      1\n",
       "19858                                 lose their luster       0"
      ]
     },
     "execution_count": 1,
     "metadata": {},
     "output_type": "execute_result"
    }
   ],
   "source": [
    "import os\n",
    "import math\n",
    "import random\n",
    "import csv\n",
    "import sys\n",
    "\n",
    "import numpy as np\n",
    "import pandas as pd\n",
    "from sklearn import metrics\n",
    "from sklearn.metrics import classification_report\n",
    "\n",
    "from bert_sklearn import BertClassifier\n",
    "from bert_sklearn import BertRegressor\n",
    "from bert_sklearn import load_model\n",
    "\n",
    "DATADIR = './glue_examples/glue_data'\n",
    "\n",
    "\n",
    "def get_sst_data(train_file=DATADIR + '/SST-2/train.tsv',\n",
    "                 dev_file=DATADIR + '/SST-2/dev.tsv'):\n",
    "    \n",
    "    train = pd.read_csv(train_file, sep='\\t', encoding = 'utf8', keep_default_na=False)\n",
    "    train.columns=['text','label']\n",
    "    print(\"SST-2 train data size: %d \"%(len(train)))\n",
    "    \n",
    "    dev = pd.read_csv(dev_file, sep='\\t', encoding = 'utf8', keep_default_na=False)\n",
    "    dev.columns=['text', 'label']\n",
    "    print(\"SST-2 dev data size: %d \"%(len(dev)))\n",
    "    label_list = np.unique(train['label'])\n",
    "    \n",
    "    return train,dev,label_list\n",
    "\n",
    "train,dev,label_list = get_sst_data()\n",
    "\n",
    "# subsample data for demo\n",
    "train = train.sample(1000, random_state=42)\n",
    "\n",
    "X_train = train['text']\n",
    "y_train = train['label']\n",
    "\n",
    "X_dev = dev['text']\n",
    "y_dev = dev['label']\n",
    "\n",
    "train.head()"
   ]
  },
  {
   "cell_type": "markdown",
   "metadata": {},
   "source": [
    "## do  grid search"
   ]
  },
  {
   "cell_type": "markdown",
   "metadata": {},
   "source": [
    "Suppose we want to tune over some the hyperparameters mentioned in the paper:\n",
    "\n",
    "* **`epochs`** in  [3, 4]\n",
    "\n",
    "\n",
    "* **`learning rate`** in  [2e-5, 3e-5, 5e-5]"
   ]
  },
  {
   "cell_type": "code",
   "execution_count": 2,
   "metadata": {},
   "outputs": [
    {
     "name": "stdout",
     "output_type": "stream",
     "text": [
      "Building sklearn text classifier...\n",
      "Building sklearn text classifier...\n",
      "Fitting 3 folds for each of 6 candidates, totalling 18 fits\n",
      "Building sklearn text classifier...\n"
     ]
    },
    {
     "name": "stderr",
     "output_type": "stream",
     "text": [
      "[Parallel(n_jobs=1)]: Using backend SequentialBackend with 1 concurrent workers.\n"
     ]
    },
    {
     "name": "stdout",
     "output_type": "stream",
     "text": [
      "Loading bert-base-uncased model...\n",
      "Defaulting to linear classifier/regressor\n",
      "Loading Pytorch checkpoint\n",
      "train data size: 666, validation data size: 0\n"
     ]
    },
    {
     "name": "stderr",
     "output_type": "stream",
     "text": [
      "Training  : 100%|██████████| 21/21 [00:08<00:00,  2.48it/s, loss=0.66] \n",
      "Training  : 100%|██████████| 21/21 [00:08<00:00,  2.48it/s, loss=0.256]\n",
      "Training  : 100%|██████████| 21/21 [00:08<00:00,  2.49it/s, loss=0.104]\n",
      "Predicting: 100%|██████████| 42/42 [00:01<00:00, 27.11it/s]\n",
      "Predicting: 100%|██████████| 84/84 [00:03<00:00, 27.72it/s]\n"
     ]
    },
    {
     "name": "stdout",
     "output_type": "stream",
     "text": [
      "Building sklearn text classifier...\n",
      "Loading bert-base-uncased model...\n",
      "Defaulting to linear classifier/regressor\n",
      "Loading Pytorch checkpoint\n",
      "train data size: 667, validation data size: 0\n"
     ]
    },
    {
     "name": "stderr",
     "output_type": "stream",
     "text": [
      "Training  : 100%|██████████| 21/21 [00:09<00:00,  2.40it/s, loss=0.612]\n",
      "Training  : 100%|██████████| 21/21 [00:09<00:00,  2.33it/s, loss=0.183]\n",
      "Training  : 100%|██████████| 21/21 [00:09<00:00,  2.31it/s, loss=0.0299]\n",
      "Predicting: 100%|██████████| 42/42 [00:01<00:00, 26.64it/s]\n",
      "Predicting: 100%|██████████| 84/84 [00:02<00:00, 28.79it/s]\n"
     ]
    },
    {
     "name": "stdout",
     "output_type": "stream",
     "text": [
      "Building sklearn text classifier...\n",
      "Loading bert-base-uncased model...\n",
      "Defaulting to linear classifier/regressor\n",
      "Loading Pytorch checkpoint\n",
      "train data size: 667, validation data size: 0\n"
     ]
    },
    {
     "name": "stderr",
     "output_type": "stream",
     "text": [
      "Training  : 100%|██████████| 21/21 [00:08<00:00,  2.44it/s, loss=0.673]\n",
      "Training  : 100%|██████████| 21/21 [00:09<00:00,  2.41it/s, loss=0.29] \n",
      "Training  : 100%|██████████| 21/21 [00:08<00:00,  2.43it/s, loss=0.117]\n",
      "Predicting: 100%|██████████| 42/42 [00:01<00:00, 29.16it/s]\n",
      "Predicting: 100%|██████████| 84/84 [00:02<00:00, 28.01it/s]\n"
     ]
    },
    {
     "name": "stdout",
     "output_type": "stream",
     "text": [
      "Building sklearn text classifier...\n",
      "Loading bert-base-uncased model...\n",
      "Defaulting to linear classifier/regressor\n",
      "Loading Pytorch checkpoint\n",
      "train data size: 666, validation data size: 0\n"
     ]
    },
    {
     "name": "stderr",
     "output_type": "stream",
     "text": [
      "Training  : 100%|██████████| 21/21 [00:09<00:00,  2.25it/s, loss=0.664]\n",
      "Training  : 100%|██████████| 21/21 [00:09<00:00,  2.30it/s, loss=0.416]\n",
      "Training  : 100%|██████████| 21/21 [00:09<00:00,  2.33it/s, loss=0.189]\n",
      "Predicting: 100%|██████████| 42/42 [00:01<00:00, 24.68it/s]\n",
      "Predicting: 100%|██████████| 84/84 [00:03<00:00, 26.68it/s]\n"
     ]
    },
    {
     "name": "stdout",
     "output_type": "stream",
     "text": [
      "Building sklearn text classifier...\n",
      "Loading bert-base-uncased model...\n",
      "Defaulting to linear classifier/regressor\n",
      "Loading Pytorch checkpoint\n",
      "train data size: 667, validation data size: 0\n"
     ]
    },
    {
     "name": "stderr",
     "output_type": "stream",
     "text": [
      "Training  : 100%|██████████| 21/21 [00:09<00:00,  2.29it/s, loss=0.66] \n",
      "Training  : 100%|██████████| 21/21 [00:09<00:00,  2.41it/s, loss=0.245]\n",
      "Training  : 100%|██████████| 21/21 [00:09<00:00,  2.40it/s, loss=0.0903]\n",
      "Predicting: 100%|██████████| 42/42 [00:01<00:00, 27.08it/s]\n",
      "Predicting: 100%|██████████| 84/84 [00:02<00:00, 28.25it/s]\n"
     ]
    },
    {
     "name": "stdout",
     "output_type": "stream",
     "text": [
      "Building sklearn text classifier...\n",
      "Loading bert-base-uncased model...\n",
      "Defaulting to linear classifier/regressor\n",
      "Loading Pytorch checkpoint\n",
      "train data size: 667, validation data size: 0\n"
     ]
    },
    {
     "name": "stderr",
     "output_type": "stream",
     "text": [
      "Training  : 100%|██████████| 21/21 [00:09<00:00,  2.39it/s, loss=0.595]\n",
      "Training  : 100%|██████████| 21/21 [00:09<00:00,  2.40it/s, loss=0.312]\n",
      "Training  : 100%|██████████| 21/21 [00:09<00:00,  2.41it/s, loss=0.0778]\n",
      "Predicting: 100%|██████████| 42/42 [00:01<00:00, 26.67it/s]\n",
      "Predicting: 100%|██████████| 84/84 [00:02<00:00, 28.03it/s]\n"
     ]
    },
    {
     "name": "stdout",
     "output_type": "stream",
     "text": [
      "Building sklearn text classifier...\n",
      "Loading bert-base-uncased model...\n",
      "Defaulting to linear classifier/regressor\n",
      "Loading Pytorch checkpoint\n",
      "train data size: 666, validation data size: 0\n"
     ]
    },
    {
     "name": "stderr",
     "output_type": "stream",
     "text": [
      "Training  : 100%|██████████| 21/21 [00:09<00:00,  2.44it/s, loss=0.711]\n",
      "Training  : 100%|██████████| 21/21 [00:09<00:00,  2.44it/s, loss=0.699]\n",
      "Training  : 100%|██████████| 21/21 [00:09<00:00,  2.36it/s, loss=0.691]\n",
      "Predicting: 100%|██████████| 42/42 [00:01<00:00, 26.19it/s]\n",
      "Predicting: 100%|██████████| 84/84 [00:03<00:00, 27.56it/s]\n"
     ]
    },
    {
     "name": "stdout",
     "output_type": "stream",
     "text": [
      "Building sklearn text classifier...\n",
      "Loading bert-base-uncased model...\n",
      "Defaulting to linear classifier/regressor\n",
      "Loading Pytorch checkpoint\n",
      "train data size: 667, validation data size: 0\n"
     ]
    },
    {
     "name": "stderr",
     "output_type": "stream",
     "text": [
      "Training  : 100%|██████████| 21/21 [00:09<00:00,  2.41it/s, loss=0.677]\n",
      "Training  : 100%|██████████| 21/21 [00:09<00:00,  2.36it/s, loss=0.444]\n",
      "Training  : 100%|██████████| 21/21 [00:09<00:00,  2.36it/s, loss=0.14] \n",
      "Predicting: 100%|██████████| 42/42 [00:01<00:00, 25.64it/s]\n",
      "Predicting: 100%|██████████| 84/84 [00:03<00:00, 24.98it/s]\n"
     ]
    },
    {
     "name": "stdout",
     "output_type": "stream",
     "text": [
      "Building sklearn text classifier...\n",
      "Loading bert-base-uncased model...\n",
      "Defaulting to linear classifier/regressor\n",
      "Loading Pytorch checkpoint\n",
      "train data size: 667, validation data size: 0\n"
     ]
    },
    {
     "name": "stderr",
     "output_type": "stream",
     "text": [
      "Training  : 100%|██████████| 21/21 [00:09<00:00,  2.36it/s, loss=0.656]\n",
      "Training  : 100%|██████████| 21/21 [00:10<00:00,  2.25it/s, loss=0.341]\n",
      "Training  : 100%|██████████| 21/21 [00:09<00:00,  2.21it/s, loss=0.0817]\n",
      "Predicting: 100%|██████████| 42/42 [00:01<00:00, 25.65it/s]\n",
      "Predicting: 100%|██████████| 84/84 [00:03<00:00, 25.22it/s]\n"
     ]
    },
    {
     "name": "stdout",
     "output_type": "stream",
     "text": [
      "Building sklearn text classifier...\n",
      "Loading bert-base-uncased model...\n",
      "Defaulting to linear classifier/regressor\n",
      "Loading Pytorch checkpoint\n",
      "train data size: 666, validation data size: 0\n"
     ]
    },
    {
     "name": "stderr",
     "output_type": "stream",
     "text": [
      "Training  : 100%|██████████| 21/21 [00:09<00:00,  2.38it/s, loss=0.662]\n",
      "Training  : 100%|██████████| 21/21 [00:09<00:00,  2.21it/s, loss=0.295]\n",
      "Training  : 100%|██████████| 21/21 [00:10<00:00,  2.11it/s, loss=0.112]\n",
      "Training  : 100%|██████████| 21/21 [00:09<00:00,  2.12it/s, loss=0.0482]\n",
      "Predicting: 100%|██████████| 42/42 [00:01<00:00, 23.38it/s]\n",
      "Predicting: 100%|██████████| 84/84 [00:03<00:00, 23.09it/s]\n"
     ]
    },
    {
     "name": "stdout",
     "output_type": "stream",
     "text": [
      "Building sklearn text classifier...\n",
      "Loading bert-base-uncased model...\n",
      "Defaulting to linear classifier/regressor\n",
      "Loading Pytorch checkpoint\n",
      "train data size: 667, validation data size: 0\n"
     ]
    },
    {
     "name": "stderr",
     "output_type": "stream",
     "text": [
      "Training  : 100%|██████████| 21/21 [00:09<00:00,  2.20it/s, loss=0.614]\n",
      "Training  : 100%|██████████| 21/21 [00:10<00:00,  2.05it/s, loss=0.25] \n",
      "Training  : 100%|██████████| 21/21 [00:10<00:00,  2.02it/s, loss=0.0705]\n",
      "Training  : 100%|██████████| 21/21 [00:10<00:00,  1.75it/s, loss=0.0114]\n",
      "Predicting: 100%|██████████| 42/42 [00:02<00:00, 16.62it/s]\n",
      "Predicting: 100%|██████████| 84/84 [00:03<00:00, 21.29it/s]\n"
     ]
    },
    {
     "name": "stdout",
     "output_type": "stream",
     "text": [
      "Building sklearn text classifier...\n",
      "Loading bert-base-uncased model...\n",
      "Defaulting to linear classifier/regressor\n",
      "Loading Pytorch checkpoint\n",
      "train data size: 667, validation data size: 0\n"
     ]
    },
    {
     "name": "stderr",
     "output_type": "stream",
     "text": [
      "Training  : 100%|██████████| 21/21 [00:09<00:00,  2.21it/s, loss=0.619]\n",
      "Training  : 100%|██████████| 21/21 [00:10<00:00,  2.05it/s, loss=0.268]\n",
      "Training  : 100%|██████████| 21/21 [00:10<00:00,  1.98it/s, loss=0.0857]\n",
      "Training  : 100%|██████████| 21/21 [00:11<00:00,  1.94it/s, loss=0.0187]\n",
      "Predicting: 100%|██████████| 42/42 [00:01<00:00, 22.29it/s]\n",
      "Predicting: 100%|██████████| 84/84 [00:03<00:00, 22.63it/s]\n"
     ]
    },
    {
     "name": "stdout",
     "output_type": "stream",
     "text": [
      "Building sklearn text classifier...\n",
      "Loading bert-base-uncased model...\n",
      "Defaulting to linear classifier/regressor\n",
      "Loading Pytorch checkpoint\n",
      "train data size: 666, validation data size: 0\n"
     ]
    },
    {
     "name": "stderr",
     "output_type": "stream",
     "text": [
      "Training  : 100%|██████████| 21/21 [00:09<00:00,  2.23it/s, loss=0.697]\n",
      "Training  : 100%|██████████| 21/21 [00:10<00:00,  2.02it/s, loss=0.575]\n",
      "Training  : 100%|██████████| 21/21 [00:11<00:00,  1.89it/s, loss=0.305]\n",
      "Training  : 100%|██████████| 21/21 [00:11<00:00,  1.84it/s, loss=0.155]\n",
      "Predicting: 100%|██████████| 42/42 [00:01<00:00, 22.15it/s]\n",
      "Predicting: 100%|██████████| 84/84 [00:03<00:00, 22.83it/s]\n"
     ]
    },
    {
     "name": "stdout",
     "output_type": "stream",
     "text": [
      "Building sklearn text classifier...\n",
      "Loading bert-base-uncased model...\n",
      "Defaulting to linear classifier/regressor\n",
      "Loading Pytorch checkpoint\n",
      "train data size: 667, validation data size: 0\n"
     ]
    },
    {
     "name": "stderr",
     "output_type": "stream",
     "text": [
      "Training  : 100%|██████████| 21/21 [00:10<00:00,  2.04it/s, loss=0.669]\n",
      "Training  : 100%|██████████| 21/21 [00:10<00:00,  1.88it/s, loss=0.404]\n",
      "Training  : 100%|██████████| 21/21 [00:12<00:00,  1.78it/s, loss=0.116]\n",
      "Training  : 100%|██████████| 21/21 [00:11<00:00,  1.92it/s, loss=0.0353]\n",
      "Predicting: 100%|██████████| 42/42 [00:02<00:00, 21.03it/s]\n",
      "Predicting: 100%|██████████| 84/84 [00:04<00:00, 20.64it/s]\n"
     ]
    },
    {
     "name": "stdout",
     "output_type": "stream",
     "text": [
      "Building sklearn text classifier...\n",
      "Loading bert-base-uncased model...\n",
      "Defaulting to linear classifier/regressor\n",
      "Loading Pytorch checkpoint\n",
      "train data size: 667, validation data size: 0\n"
     ]
    },
    {
     "name": "stderr",
     "output_type": "stream",
     "text": [
      "Training  : 100%|██████████| 21/21 [00:10<00:00,  2.10it/s, loss=0.608]\n",
      "Training  : 100%|██████████| 21/21 [00:13<00:00,  1.66it/s, loss=0.32] \n",
      "Training  : 100%|██████████| 21/21 [00:11<00:00,  1.76it/s, loss=0.118]\n",
      "Training  : 100%|██████████| 21/21 [00:12<00:00,  1.74it/s, loss=0.0226]\n",
      "Predicting: 100%|██████████| 42/42 [00:02<00:00, 19.44it/s]\n",
      "Predicting: 100%|██████████| 84/84 [00:04<00:00, 22.29it/s]\n"
     ]
    },
    {
     "name": "stdout",
     "output_type": "stream",
     "text": [
      "Building sklearn text classifier...\n",
      "Loading bert-base-uncased model...\n",
      "Defaulting to linear classifier/regressor\n",
      "Loading Pytorch checkpoint\n",
      "train data size: 666, validation data size: 0\n"
     ]
    },
    {
     "name": "stderr",
     "output_type": "stream",
     "text": [
      "Training  : 100%|██████████| 21/21 [00:11<00:00,  1.74it/s, loss=0.66] \n",
      "Training  : 100%|██████████| 21/21 [00:11<00:00,  2.10it/s, loss=0.536]\n",
      "Training  : 100%|██████████| 21/21 [00:11<00:00,  1.93it/s, loss=0.382]\n",
      "Training  : 100%|██████████| 21/21 [00:11<00:00,  1.94it/s, loss=0.16] \n",
      "Predicting: 100%|██████████| 42/42 [00:02<00:00, 18.55it/s]\n",
      "Predicting: 100%|██████████| 84/84 [00:04<00:00, 19.45it/s]\n"
     ]
    },
    {
     "name": "stdout",
     "output_type": "stream",
     "text": [
      "Building sklearn text classifier...\n",
      "Loading bert-base-uncased model...\n",
      "Defaulting to linear classifier/regressor\n",
      "Loading Pytorch checkpoint\n",
      "train data size: 667, validation data size: 0\n"
     ]
    },
    {
     "name": "stderr",
     "output_type": "stream",
     "text": [
      "Training  : 100%|██████████| 21/21 [00:09<00:00,  2.17it/s, loss=0.67] \n",
      "Training  : 100%|██████████| 21/21 [00:11<00:00,  1.79it/s, loss=0.519]\n",
      "Training  : 100%|██████████| 21/21 [00:11<00:00,  2.00it/s, loss=0.254]\n",
      "Training  : 100%|██████████| 21/21 [00:11<00:00,  1.78it/s, loss=0.0843]\n",
      "Predicting: 100%|██████████| 42/42 [00:02<00:00, 17.41it/s]\n",
      "Predicting: 100%|██████████| 84/84 [00:04<00:00, 17.85it/s]\n"
     ]
    },
    {
     "name": "stdout",
     "output_type": "stream",
     "text": [
      "Building sklearn text classifier...\n",
      "Loading bert-base-uncased model...\n",
      "Defaulting to linear classifier/regressor\n",
      "Loading Pytorch checkpoint\n",
      "train data size: 667, validation data size: 0\n"
     ]
    },
    {
     "name": "stderr",
     "output_type": "stream",
     "text": [
      "Training  : 100%|██████████| 21/21 [00:11<00:00,  2.08it/s, loss=0.643]\n",
      "Training  : 100%|██████████| 21/21 [00:12<00:00,  1.75it/s, loss=0.345]\n",
      "Training  : 100%|██████████| 21/21 [00:11<00:00,  1.73it/s, loss=0.0949]\n",
      "Training  : 100%|██████████| 21/21 [00:11<00:00,  1.87it/s, loss=0.0323]\n",
      "Predicting: 100%|██████████| 42/42 [00:02<00:00, 20.51it/s]\n",
      "Predicting: 100%|██████████| 84/84 [00:04<00:00, 20.89it/s]\n",
      "[Parallel(n_jobs=1)]: Done  18 out of  18 | elapsed: 13.6min finished\n",
      "/root/miniconda3/lib/python3.6/site-packages/sklearn/model_selection/_search.py:841: DeprecationWarning: The default of the `iid` parameter will change from True to False in version 0.22 and will be removed in 0.24. This will change numeric results when test-set sizes are unequal.\n",
      "  DeprecationWarning)\n"
     ]
    },
    {
     "name": "stdout",
     "output_type": "stream",
     "text": [
      "Building sklearn text classifier...\n",
      "Loading bert-base-uncased model...\n",
      "Defaulting to linear classifier/regressor\n",
      "Loading Pytorch checkpoint\n",
      "train data size: 1000, validation data size: 0\n"
     ]
    },
    {
     "name": "stderr",
     "output_type": "stream",
     "text": [
      "Training  : 100%|██████████| 32/32 [00:17<00:00,  2.15it/s, loss=0.565]\n",
      "Training  : 100%|██████████| 32/32 [00:18<00:00,  2.13it/s, loss=0.246]\n",
      "Training  : 100%|██████████| 32/32 [00:19<00:00,  2.10it/s, loss=0.0835]\n",
      "Training  : 100%|██████████| 32/32 [00:18<00:00,  2.08it/s, loss=0.0355]"
     ]
    },
    {
     "name": "stdout",
     "output_type": "stream",
     "text": [
      "CPU times: user 9min 12s, sys: 5min 12s, total: 14min 24s\n",
      "Wall time: 14min 50s\n"
     ]
    },
    {
     "name": "stderr",
     "output_type": "stream",
     "text": [
      "\n"
     ]
    }
   ],
   "source": [
    "%%time\n",
    "from sklearn.model_selection import GridSearchCV\n",
    "\n",
    "params = {'epochs':[3, 4], 'learning_rate':[2e-5, 3e-5, 5e-5]}\n",
    "\n",
    "# wrap classifier/regressor in GridSearchCV\n",
    "clf = GridSearchCV(BertClassifier(validation_fraction=0, max_seq_length=64), \n",
    "                   params,\n",
    "                   cv=3,\n",
    "                   scoring='accuracy',\n",
    "                   verbose=True)\n",
    "\n",
    "# fit gridsearch \n",
    "clf.fit(X_train ,y_train)"
   ]
  },
  {
   "cell_type": "markdown",
   "metadata": {},
   "source": [
    "## results"
   ]
  },
  {
   "cell_type": "code",
   "execution_count": 3,
   "metadata": {},
   "outputs": [
    {
     "name": "stdout",
     "output_type": "stream",
     "text": [
      "0.869 (+/-0.013) for {'epochs': 3, 'learning_rate': 2e-05}\n",
      "0.868 (+/-0.034) for {'epochs': 3, 'learning_rate': 3e-05}\n",
      "0.750 (+/-0.282) for {'epochs': 3, 'learning_rate': 5e-05}\n",
      "0.880 (+/-0.005) for {'epochs': 4, 'learning_rate': 2e-05}\n",
      "0.869 (+/-0.022) for {'epochs': 4, 'learning_rate': 3e-05}\n",
      "0.856 (+/-0.000) for {'epochs': 4, 'learning_rate': 5e-05}\n",
      "\n",
      "Best score: 0.88 with params: {'epochs': 4, 'learning_rate': 2e-05}\n"
     ]
    }
   ],
   "source": [
    "means = clf.cv_results_['mean_test_score']\n",
    "stds = clf.cv_results_['std_test_score']\n",
    "\n",
    "for mean, std, params in zip(means, stds, clf.cv_results_['params']):\n",
    "        print(\"%0.3f (+/-%0.03f) for %r\"\n",
    "              % (mean, std * 2, params))\n",
    "        \n",
    "# best scores\n",
    "print(\"\\nBest score:\", clf.best_score_,\"with params:\", clf.best_params_)        "
   ]
  }
 ],
 "metadata": {
  "kernelspec": {
   "display_name": "Python 3",
   "language": "python",
   "name": "python3"
  },
  "language_info": {
   "codemirror_mode": {
    "name": "ipython",
    "version": 3
   },
   "file_extension": ".py",
   "mimetype": "text/x-python",
   "name": "python",
   "nbconvert_exporter": "python",
   "pygments_lexer": "ipython3",
   "version": "3.6.7"
  }
 },
 "nbformat": 4,
 "nbformat_minor": 2
}
