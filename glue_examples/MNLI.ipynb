{
 "cells": [
  {
   "cell_type": "markdown",
   "metadata": {},
   "source": [
    "## MNLI : Multi-Genre Natural Language Inference\n",
    "\n",
    "The Multi-Genre Natural Language Inference(MNLI) task is a sentence pair classification task. It consists of crowdsourced sentence pairs with textual entailment annotations.\n",
    "\n",
    "See [webisite](http://www.nyu.edu/projects/bowman/multinli/) and [paper](http://www.nyu.edu/projects/bowman/multinli/paper.pdf) for more info."
   ]
  },
  {
   "cell_type": "code",
   "execution_count": 1,
   "metadata": {},
   "outputs": [],
   "source": [
    "import numpy as np\n",
    "import pandas as pd\n",
    "import os\n",
    "import sys\n",
    "import csv\n",
    "from sklearn import metrics\n",
    "from sklearn.metrics import classification_report\n",
    "\n",
    "sys.path.append(\"../\") \n",
    "from bert_sklearn import BertClassifier\n",
    "\n",
    "DATADIR = os.getcwd() + '/glue_data'\n",
    "#DATADIR = '/data/glue_data'"
   ]
  },
  {
   "cell_type": "code",
   "execution_count": 2,
   "metadata": {},
   "outputs": [
    {
     "name": "stdout",
     "output_type": "stream",
     "text": [
      "Downloading and extracting MNLI...\n",
      "\tCompleted!\n",
      "CPU times: user 8 ms, sys: 0 ns, total: 8 ms\n",
      "Wall time: 25.2 s\n"
     ]
    }
   ],
   "source": [
    "%%time\n",
    "%%bash\n",
    "python3 download_glue_data.py --data_dir glue_data --tasks MNLI "
   ]
  },
  {
   "cell_type": "code",
   "execution_count": 2,
   "metadata": {},
   "outputs": [
    {
     "name": "stdout",
     "output_type": "stream",
     "text": [
      "MNLI train data size: 392702 \n",
      "MNLI dev_matched data size: 9815 \n",
      "MNLI dev_mismatched data size: 9832 \n"
     ]
    }
   ],
   "source": [
    "\"\"\"\n",
    "MNLI train data size: 392702 \n",
    "MNLI dev_matched data size: 9815 \n",
    "MNLI dev_mismatched data size: 9832 \n",
    "\"\"\"\n",
    "def read_tsv(filename,quotechar=None):\n",
    "    with open(filename, \"r\", encoding='utf-8') as f:\n",
    "        return list(csv.reader(f,delimiter=\"\\t\",quotechar=quotechar))\n",
    "    \n",
    "def get_mnli_df(filename):\n",
    "    rows = read_tsv(filename)    \n",
    "    df=pd.DataFrame(rows[1:],columns=rows[0])\n",
    "    df=df[['sentence1','sentence2','gold_label']]\n",
    "    df.columns=['text_a','text_b','label']\n",
    "    df = df[pd.notnull(df['label'])]                \n",
    "    return df    \n",
    "\n",
    "def get_mnli_data(train_file = DATADIR + '/MNLI/train.tsv',\n",
    "                  dev_matched_file = DATADIR + '/MNLI/dev_matched.tsv',                  \n",
    "                  dev_mismatched_file = DATADIR + '/MNLI/dev_mismatched.tsv'):\n",
    "    \n",
    "    train = get_mnli_df(train_file) \n",
    "    print(\"MNLI train data size: %d \"%(len(train)))        \n",
    "    dev_matched = get_mnli_df(dev_matched_file) \n",
    "    print(\"MNLI dev_matched data size: %d \"%(len(dev_matched)))        \n",
    "    dev_mismatched = get_mnli_df(dev_mismatched_file)\n",
    "    print(\"MNLI dev_mismatched data size: %d \"%(len(dev_mismatched)))        \n",
    "    label_list = np.unique(train['label'].values)\n",
    "\n",
    "    return train,dev_matched,dev_mismatched,label_list\n",
    "\n",
    "train,dev_matched,dev_mismatched,label_list = get_mnli_data()\n"
   ]
  },
  {
   "cell_type": "code",
   "execution_count": 5,
   "metadata": {},
   "outputs": [
    {
     "name": "stdout",
     "output_type": "stream",
     "text": [
      "['contradiction' 'entailment' 'neutral']\n"
     ]
    }
   ],
   "source": [
    "print(label_list)"
   ]
  },
  {
   "cell_type": "code",
   "execution_count": 3,
   "metadata": {},
   "outputs": [
    {
     "data": {
      "text/html": [
       "<div>\n",
       "<style scoped>\n",
       "    .dataframe tbody tr th:only-of-type {\n",
       "        vertical-align: middle;\n",
       "    }\n",
       "\n",
       "    .dataframe tbody tr th {\n",
       "        vertical-align: top;\n",
       "    }\n",
       "\n",
       "    .dataframe thead th {\n",
       "        text-align: right;\n",
       "    }\n",
       "</style>\n",
       "<table border=\"1\" class=\"dataframe\">\n",
       "  <thead>\n",
       "    <tr style=\"text-align: right;\">\n",
       "      <th></th>\n",
       "      <th>text_a</th>\n",
       "      <th>text_b</th>\n",
       "      <th>label</th>\n",
       "    </tr>\n",
       "  </thead>\n",
       "  <tbody>\n",
       "    <tr>\n",
       "      <th>0</th>\n",
       "      <td>Conceptually cream skimming has two basic dime...</td>\n",
       "      <td>Product and geography are what make cream skim...</td>\n",
       "      <td>neutral</td>\n",
       "    </tr>\n",
       "    <tr>\n",
       "      <th>1</th>\n",
       "      <td>you know during the season and i guess at at y...</td>\n",
       "      <td>You lose the things to the following level if ...</td>\n",
       "      <td>entailment</td>\n",
       "    </tr>\n",
       "    <tr>\n",
       "      <th>2</th>\n",
       "      <td>One of our number will carry out your instruct...</td>\n",
       "      <td>A member of my team will execute your orders w...</td>\n",
       "      <td>entailment</td>\n",
       "    </tr>\n",
       "    <tr>\n",
       "      <th>3</th>\n",
       "      <td>How do you know? All this is their information...</td>\n",
       "      <td>This information belongs to them.</td>\n",
       "      <td>entailment</td>\n",
       "    </tr>\n",
       "    <tr>\n",
       "      <th>4</th>\n",
       "      <td>yeah i tell you what though if you go price so...</td>\n",
       "      <td>The tennis shoes have a range of prices.</td>\n",
       "      <td>neutral</td>\n",
       "    </tr>\n",
       "  </tbody>\n",
       "</table>\n",
       "</div>"
      ],
      "text/plain": [
       "                                              text_a  \\\n",
       "0  Conceptually cream skimming has two basic dime...   \n",
       "1  you know during the season and i guess at at y...   \n",
       "2  One of our number will carry out your instruct...   \n",
       "3  How do you know? All this is their information...   \n",
       "4  yeah i tell you what though if you go price so...   \n",
       "\n",
       "                                              text_b       label  \n",
       "0  Product and geography are what make cream skim...     neutral  \n",
       "1  You lose the things to the following level if ...  entailment  \n",
       "2  A member of my team will execute your orders w...  entailment  \n",
       "3                  This information belongs to them.  entailment  \n",
       "4           The tennis shoes have a range of prices.     neutral  "
      ]
     },
     "execution_count": 3,
     "metadata": {},
     "output_type": "execute_result"
    }
   ],
   "source": [
    "train.head()"
   ]
  },
  {
   "cell_type": "code",
   "execution_count": 27,
   "metadata": {},
   "outputs": [
    {
     "data": {
      "text/html": [
       "<div>\n",
       "<style scoped>\n",
       "    .dataframe tbody tr th:only-of-type {\n",
       "        vertical-align: middle;\n",
       "    }\n",
       "\n",
       "    .dataframe tbody tr th {\n",
       "        vertical-align: top;\n",
       "    }\n",
       "\n",
       "    .dataframe thead th {\n",
       "        text-align: right;\n",
       "    }\n",
       "</style>\n",
       "<table border=\"1\" class=\"dataframe\">\n",
       "  <thead>\n",
       "    <tr style=\"text-align: right;\">\n",
       "      <th></th>\n",
       "      <th>text_a</th>\n",
       "      <th>text_b</th>\n",
       "      <th>label</th>\n",
       "    </tr>\n",
       "  </thead>\n",
       "  <tbody>\n",
       "    <tr>\n",
       "      <th>0</th>\n",
       "      <td>The new rights are nice enough</td>\n",
       "      <td>Everyone really likes the newest benefits</td>\n",
       "      <td>neutral</td>\n",
       "    </tr>\n",
       "    <tr>\n",
       "      <th>1</th>\n",
       "      <td>This site includes a list of all award winners...</td>\n",
       "      <td>The Government Executive articles housed on th...</td>\n",
       "      <td>contradiction</td>\n",
       "    </tr>\n",
       "    <tr>\n",
       "      <th>2</th>\n",
       "      <td>uh i don't know i i have mixed emotions about ...</td>\n",
       "      <td>I like him for the most part, but would still ...</td>\n",
       "      <td>entailment</td>\n",
       "    </tr>\n",
       "    <tr>\n",
       "      <th>3</th>\n",
       "      <td>yeah i i think my favorite restaurant is alway...</td>\n",
       "      <td>My favorite restaurants are always at least a ...</td>\n",
       "      <td>contradiction</td>\n",
       "    </tr>\n",
       "    <tr>\n",
       "      <th>4</th>\n",
       "      <td>i don't know um do you do a lot of camping</td>\n",
       "      <td>I know exactly.</td>\n",
       "      <td>contradiction</td>\n",
       "    </tr>\n",
       "  </tbody>\n",
       "</table>\n",
       "</div>"
      ],
      "text/plain": [
       "                                              text_a  \\\n",
       "0                     The new rights are nice enough   \n",
       "1  This site includes a list of all award winners...   \n",
       "2  uh i don't know i i have mixed emotions about ...   \n",
       "3  yeah i i think my favorite restaurant is alway...   \n",
       "4         i don't know um do you do a lot of camping   \n",
       "\n",
       "                                              text_b          label  \n",
       "0         Everyone really likes the newest benefits         neutral  \n",
       "1  The Government Executive articles housed on th...  contradiction  \n",
       "2  I like him for the most part, but would still ...     entailment  \n",
       "3  My favorite restaurants are always at least a ...  contradiction  \n",
       "4                                    I know exactly.  contradiction  "
      ]
     },
     "execution_count": 27,
     "metadata": {},
     "output_type": "execute_result"
    }
   ],
   "source": [
    "dev_matched.head()"
   ]
  },
  {
   "cell_type": "code",
   "execution_count": 25,
   "metadata": {},
   "outputs": [
    {
     "data": {
      "text/html": [
       "<div>\n",
       "<style scoped>\n",
       "    .dataframe tbody tr th:only-of-type {\n",
       "        vertical-align: middle;\n",
       "    }\n",
       "\n",
       "    .dataframe tbody tr th {\n",
       "        vertical-align: top;\n",
       "    }\n",
       "\n",
       "    .dataframe thead th {\n",
       "        text-align: right;\n",
       "    }\n",
       "</style>\n",
       "<table border=\"1\" class=\"dataframe\">\n",
       "  <thead>\n",
       "    <tr style=\"text-align: right;\">\n",
       "      <th></th>\n",
       "      <th>text_a</th>\n",
       "      <th>text_b</th>\n",
       "      <th>label</th>\n",
       "    </tr>\n",
       "  </thead>\n",
       "  <tbody>\n",
       "    <tr>\n",
       "      <th>0</th>\n",
       "      <td>Your contribution helped make it possible for ...</td>\n",
       "      <td>Your contributions were of no help with our st...</td>\n",
       "      <td>contradiction</td>\n",
       "    </tr>\n",
       "    <tr>\n",
       "      <th>1</th>\n",
       "      <td>The answer has nothing to do with their cause,...</td>\n",
       "      <td>Dictionaries are indeed exercises in bi-unique...</td>\n",
       "      <td>contradiction</td>\n",
       "    </tr>\n",
       "    <tr>\n",
       "      <th>2</th>\n",
       "      <td>We serve a classic Tuscan meal that includes ...</td>\n",
       "      <td>We serve a meal of Florentine terrine.</td>\n",
       "      <td>entailment</td>\n",
       "    </tr>\n",
       "    <tr>\n",
       "      <th>3</th>\n",
       "      <td>A few months ago, Carl Newton and I wrote a le...</td>\n",
       "      <td>Carl Newton and I have never had any other pre...</td>\n",
       "      <td>contradiction</td>\n",
       "    </tr>\n",
       "    <tr>\n",
       "      <th>4</th>\n",
       "      <td>I was on this earth you know, I've lived on th...</td>\n",
       "      <td>I don't yet know the reason why I have lived o...</td>\n",
       "      <td>entailment</td>\n",
       "    </tr>\n",
       "  </tbody>\n",
       "</table>\n",
       "</div>"
      ],
      "text/plain": [
       "                                              text_a  \\\n",
       "0  Your contribution helped make it possible for ...   \n",
       "1  The answer has nothing to do with their cause,...   \n",
       "2   We serve a classic Tuscan meal that includes ...   \n",
       "3  A few months ago, Carl Newton and I wrote a le...   \n",
       "4  I was on this earth you know, I've lived on th...   \n",
       "\n",
       "                                              text_b          label  \n",
       "0  Your contributions were of no help with our st...  contradiction  \n",
       "1  Dictionaries are indeed exercises in bi-unique...  contradiction  \n",
       "2             We serve a meal of Florentine terrine.     entailment  \n",
       "3  Carl Newton and I have never had any other pre...  contradiction  \n",
       "4  I don't yet know the reason why I have lived o...     entailment  "
      ]
     },
     "execution_count": 25,
     "metadata": {},
     "output_type": "execute_result"
    }
   ],
   "source": [
    "dev_mismatched.head()"
   ]
  },
  {
   "cell_type": "code",
   "execution_count": 3,
   "metadata": {},
   "outputs": [
    {
     "name": "stdout",
     "output_type": "stream",
     "text": [
      "Building sklearn classifier...\n",
      "\n",
      " BertClassifier(bert_model='bert-base-uncased', epochs=4, eval_batch_size=8,\n",
      "        fp16=False, gradient_accumulation_steps=1, label_list=None,\n",
      "        learning_rate=3e-05, local_rank=-1, logfile='bert.log',\n",
      "        loss_scale=0, max_seq_length=128, num_mlp_hiddens=500,\n",
      "        num_mlp_layers=0, random_state=42, restore_file=None,\n",
      "        train_batch_size=32, use_cuda=True, validation_fraction=0.05,\n",
      "        warmup_proportion=0.1) \n",
      "\n",
      "Loading bert-base-uncased model...\n",
      "Defaulting to linear classifier/regressor\n",
      "train data size: 373067, validation data size: 19635\n"
     ]
    },
    {
     "name": "stderr",
     "output_type": "stream",
     "text": [
      "Training: 100%|██████████| 11659/11659 [2:29:47<00:00,  1.43it/s, loss=0.622] \n",
      "                                                               "
     ]
    },
    {
     "name": "stdout",
     "output_type": "stream",
     "text": [
      "Epoch 1, Train loss : 0.6216, Val loss: 0.4593, Val accy = 82.55%\n"
     ]
    },
    {
     "name": "stderr",
     "output_type": "stream",
     "text": [
      "Training: 100%|██████████| 11659/11659 [2:29:51<00:00,  1.43it/s, loss=0.37]  \n",
      "                                                               "
     ]
    },
    {
     "name": "stdout",
     "output_type": "stream",
     "text": [
      "Epoch 2, Train loss : 0.3698, Val loss: 0.4371, Val accy = 83.68%\n"
     ]
    },
    {
     "name": "stderr",
     "output_type": "stream",
     "text": [
      "Training: 100%|██████████| 11659/11659 [2:30:03<00:00,  1.43it/s, loss=0.247] \n",
      "                                                               "
     ]
    },
    {
     "name": "stdout",
     "output_type": "stream",
     "text": [
      "Epoch 3, Train loss : 0.2473, Val loss: 0.4834, Val accy = 84.02%\n"
     ]
    },
    {
     "name": "stderr",
     "output_type": "stream",
     "text": [
      "Training: 100%|██████████| 11659/11659 [2:29:52<00:00,  1.43it/s, loss=0.191] \n",
      "                                                               "
     ]
    },
    {
     "name": "stdout",
     "output_type": "stream",
     "text": [
      "Epoch 4, Train loss : 0.1914, Val loss: 0.5338, Val accy = 83.95%\n"
     ]
    },
    {
     "name": "stderr",
     "output_type": "stream",
     "text": [
      "                                                            "
     ]
    },
    {
     "name": "stdout",
     "output_type": "stream",
     "text": [
      "Matched/mismatched accuracy: 83.73/83.93 %\n",
      "CPU times: user 8h 49min 19s, sys: 4h 32min 35s, total: 13h 21min 55s\n",
      "Wall time: 10h 26min 32s\n"
     ]
    },
    {
     "name": "stderr",
     "output_type": "stream",
     "text": [
      "\r"
     ]
    }
   ],
   "source": [
    "%%time\n",
    "\n",
    "#nrows = 1000\n",
    "#train = train.sample(nrows)\n",
    "#dev_mismatched = dev_mismatched.sample(nrows)\n",
    "#dev_matched = dev_matched.sample(nrows)\n",
    "\n",
    "X_train = train[['text_a','text_b']]\n",
    "y_train = train['label']\n",
    "\n",
    "# define model\n",
    "model = BertClassifier()\n",
    "model.epochs = 4\n",
    "model.learning_rate = 3e-5\n",
    "model.max_seq_length = 128\n",
    "model.validation_fraction = 0.05\n",
    "\n",
    "print('\\n',model,'\\n')\n",
    "\n",
    "# fit model\n",
    "model.fit(X_train, y_train)\n",
    "\n",
    "# score model on dev_matched\n",
    "test = dev_matched\n",
    "X_test = test[['text_a','text_b']]\n",
    "y_test = test['label']\n",
    "m_accy=model.score(X_test, y_test)\n",
    "\n",
    "# score model on dev_mismatched\n",
    "test = dev_mismatched\n",
    "X_test = test[['text_a','text_b']]\n",
    "y_test = test['label']\n",
    "mm_accy=model.score(X_test, y_test)\n",
    "\n",
    "print(\"Matched/mismatched accuracy: %0.2f/%0.2f %%\"%(m_accy,mm_accy))"
   ]
  },
  {
   "cell_type": "markdown",
   "metadata": {},
   "source": [
    "## with MLP..."
   ]
  },
  {
   "cell_type": "code",
   "execution_count": 3,
   "metadata": {},
   "outputs": [
    {
     "name": "stdout",
     "output_type": "stream",
     "text": [
      "Building sklearn classifier...\n",
      "\n",
      " BertClassifier(bert_model='bert-base-uncased', epochs=4, eval_batch_size=8,\n",
      "        fp16=False, gradient_accumulation_steps=1, label_list=None,\n",
      "        learning_rate=3e-05, local_rank=-1, logfile='bert.log',\n",
      "        loss_scale=0, max_seq_length=128, num_mlp_hiddens=500,\n",
      "        num_mlp_layers=4, random_state=42, restore_file=None,\n",
      "        train_batch_size=32, use_cuda=True, validation_fraction=0.05,\n",
      "        warmup_proportion=0.1) \n",
      "\n",
      "Loading bert-base-uncased model...\n",
      "Using mlp with D=768,H=500,K=3,n=4\n",
      "train data size: 373067, validation data size: 19635\n"
     ]
    },
    {
     "name": "stderr",
     "output_type": "stream",
     "text": [
      "Training: 100%|██████████| 11658/11658 [2:31:08<00:00,  1.29it/s, loss=0.657] \n",
      "                                                               "
     ]
    },
    {
     "name": "stdout",
     "output_type": "stream",
     "text": [
      "Epoch 1, Train loss : 0.6571, Val loss: 0.4450, Val accy = 82.78%\n"
     ]
    },
    {
     "name": "stderr",
     "output_type": "stream",
     "text": [
      "Training: 100%|██████████| 11658/11658 [2:31:31<00:00,  1.29it/s, loss=0.384] \n",
      "                                                               "
     ]
    },
    {
     "name": "stdout",
     "output_type": "stream",
     "text": [
      "Epoch 2, Train loss : 0.3836, Val loss: 0.4183, Val accy = 84.00%\n"
     ]
    },
    {
     "name": "stderr",
     "output_type": "stream",
     "text": [
      "Training: 100%|██████████| 11658/11658 [2:31:39<00:00,  1.27it/s, loss=0.264] \n",
      "                                                               "
     ]
    },
    {
     "name": "stdout",
     "output_type": "stream",
     "text": [
      "Epoch 3, Train loss : 0.2635, Val loss: 0.4343, Val accy = 84.07%\n"
     ]
    },
    {
     "name": "stderr",
     "output_type": "stream",
     "text": [
      "Training: 100%|██████████| 11658/11658 [2:32:20<00:00,  1.29it/s, loss=0.209] \n",
      "                                                               "
     ]
    },
    {
     "name": "stdout",
     "output_type": "stream",
     "text": [
      "Epoch 4, Train loss : 0.2090, Val loss: 0.4585, Val accy = 84.20%\n"
     ]
    },
    {
     "name": "stderr",
     "output_type": "stream",
     "text": [
      "                                                            "
     ]
    },
    {
     "name": "stdout",
     "output_type": "stream",
     "text": [
      "Matched/mismatched accuracy: 84.51/84.49 %\n",
      "CPU times: user 8h 57min 53s, sys: 4h 31min 35s, total: 13h 29min 28s\n",
      "Wall time: 10h 34min 3s\n"
     ]
    },
    {
     "name": "stderr",
     "output_type": "stream",
     "text": [
      "\r"
     ]
    }
   ],
   "source": [
    "%%time\n",
    "\n",
    "#nrows = 1000\n",
    "#train = train.sample(nrows)\n",
    "#dev_mismatched = dev_mismatched.sample(nrows)\n",
    "#dev_matched = dev_matched.sample(nrows)\n",
    "\n",
    "X_train = train[['text_a','text_b']]\n",
    "y_train = train['label']\n",
    "\n",
    "# define model\n",
    "model = BertClassifier()\n",
    "model.epochs = 4\n",
    "model.learning_rate = 3e-5\n",
    "model.max_seq_length = 128\n",
    "model.validation_fraction = 0.05\n",
    "model.num_mlp_layers = 4\n",
    "\n",
    "print('\\n',model,'\\n')\n",
    "\n",
    "# fit model\n",
    "model.fit(X_train, y_train)\n",
    "\n",
    "# score model on dev_matched\n",
    "test = dev_matched\n",
    "X_test = test[['text_a','text_b']]\n",
    "y_test = test['label']\n",
    "m_accy=model.score(X_test, y_test)\n",
    "\n",
    "# score model on dev_mismatched\n",
    "test = dev_mismatched\n",
    "X_test = test[['text_a','text_b']]\n",
    "y_test = test['label']\n",
    "mm_accy=model.score(X_test, y_test)\n",
    "\n",
    "print(\"Matched/mismatched accuracy: %0.2f/%0.2f %%\"%(m_accy,mm_accy))\n"
   ]
  }
 ],
 "metadata": {
  "kernelspec": {
   "display_name": "Python 3",
   "language": "python",
   "name": "python3"
  },
  "language_info": {
   "codemirror_mode": {
    "name": "ipython",
    "version": 3
   },
   "file_extension": ".py",
   "mimetype": "text/x-python",
   "name": "python",
   "nbconvert_exporter": "python",
   "pygments_lexer": "ipython3",
   "version": "3.6.7"
  }
 },
 "nbformat": 4,
 "nbformat_minor": 2
}
