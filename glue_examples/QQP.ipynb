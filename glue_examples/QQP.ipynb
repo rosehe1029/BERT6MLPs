{
 "cells": [
  {
   "cell_type": "markdown",
   "metadata": {},
   "source": [
    "# QQP : Quora Question Pair\n",
    "\n",
    "The Quora Question Pair(QQP) task is a sentence pair classification task. It consists of sentences pairs from the Quora website labeled as duplicate or not.\n",
    "\n",
    "See [original release post](https://data.quora.com/First-Quora-Dataset-Release-Question-Pairs) for more info.\n"
   ]
  },
  {
   "cell_type": "code",
   "execution_count": 1,
   "metadata": {},
   "outputs": [],
   "source": [
    "import numpy as np\n",
    "import pandas as pd\n",
    "import os\n",
    "import sys\n",
    "import csv\n",
    "from sklearn import metrics\n",
    "from sklearn.metrics import classification_report\n",
    "\n",
    "sys.path.append(\"../\") \n",
    "from bert_sklearn import BertClassifier\n",
    "\n",
    "DATADIR = os.getcwd() + '/glue_data'"
   ]
  },
  {
   "cell_type": "code",
   "execution_count": 2,
   "metadata": {},
   "outputs": [
    {
     "name": "stdout",
     "output_type": "stream",
     "text": [
      "Downloading and extracting QQP...\n",
      "\tCompleted!\n"
     ]
    }
   ],
   "source": [
    "%%bash\n",
    "python3 download_glue_data.py --data_dir glue_data --tasks QQP "
   ]
  },
  {
   "cell_type": "code",
   "execution_count": 4,
   "metadata": {},
   "outputs": [
    {
     "name": "stdout",
     "output_type": "stream",
     "text": [
      "QQP train data size: 363849 \n",
      "QQP dev data size: 40430 \n"
     ]
    }
   ],
   "source": [
    "\"\"\"\n",
    "QQP train data size: 363849 \n",
    "QQP dev data size: 40430 \n",
    "\"\"\"\n",
    "\n",
    "def read_tsv(filename,quotechar=None):\n",
    "    with open(filename, \"r\", encoding='utf-8') as f:\n",
    "        return list(csv.reader(f,delimiter=\"\\t\",quotechar=quotechar))\n",
    "    \n",
    "def get_quora_df(filename):\n",
    "    rows = read_tsv(filename)\n",
    "    df=pd.DataFrame(rows[1:],columns=rows[0])\n",
    "    df=df[['question1','question2','is_duplicate']]\n",
    "    df = df[pd.notnull(df['is_duplicate'])]\n",
    "    df.columns=['text_a','text_b','label']\n",
    "    return df\n",
    "\n",
    "def get_quora_data(train_file = DATADIR+'/QQP/train.tsv', \n",
    "                   dev_file =  DATADIR+'/QQP/dev.tsv'):\n",
    "    \n",
    "    train = get_quora_df(train_file)\n",
    "    print(\"QQP train data size: %d \"%(len(train)))\n",
    "    dev = get_quora_df(dev_file)\n",
    "    print(\"QQP dev data size: %d \"%(len(dev)))\n",
    "\n",
    "    label_list = np.unique(train['label'].values)\n",
    "    return train,dev,label_list \n",
    "\n",
    "train,dev,label_list = get_quora_data()"
   ]
  },
  {
   "cell_type": "code",
   "execution_count": 4,
   "metadata": {},
   "outputs": [
    {
     "name": "stdout",
     "output_type": "stream",
     "text": [
      "['0' '1']\n"
     ]
    }
   ],
   "source": [
    "print(label_list)"
   ]
  },
  {
   "cell_type": "code",
   "execution_count": 8,
   "metadata": {},
   "outputs": [
    {
     "data": {
      "text/html": [
       "<div>\n",
       "<style scoped>\n",
       "    .dataframe tbody tr th:only-of-type {\n",
       "        vertical-align: middle;\n",
       "    }\n",
       "\n",
       "    .dataframe tbody tr th {\n",
       "        vertical-align: top;\n",
       "    }\n",
       "\n",
       "    .dataframe thead th {\n",
       "        text-align: right;\n",
       "    }\n",
       "</style>\n",
       "<table border=\"1\" class=\"dataframe\">\n",
       "  <thead>\n",
       "    <tr style=\"text-align: right;\">\n",
       "      <th></th>\n",
       "      <th>text_a</th>\n",
       "      <th>text_b</th>\n",
       "      <th>label</th>\n",
       "    </tr>\n",
       "  </thead>\n",
       "  <tbody>\n",
       "    <tr>\n",
       "      <th>0</th>\n",
       "      <td>How is the life of a math student? Could you d...</td>\n",
       "      <td>Which level of prepration is enough for the ex...</td>\n",
       "      <td>0</td>\n",
       "    </tr>\n",
       "    <tr>\n",
       "      <th>1</th>\n",
       "      <td>How do I control my horny emotions?</td>\n",
       "      <td>How do you control your horniness?</td>\n",
       "      <td>1</td>\n",
       "    </tr>\n",
       "    <tr>\n",
       "      <th>2</th>\n",
       "      <td>What causes stool color to change to yellow?</td>\n",
       "      <td>What can cause stool to come out as little balls?</td>\n",
       "      <td>0</td>\n",
       "    </tr>\n",
       "    <tr>\n",
       "      <th>3</th>\n",
       "      <td>What can one do after MBBS?</td>\n",
       "      <td>What do i do after my MBBS ?</td>\n",
       "      <td>1</td>\n",
       "    </tr>\n",
       "    <tr>\n",
       "      <th>4</th>\n",
       "      <td>Where can I find a power outlet for my laptop ...</td>\n",
       "      <td>Would a second airport in Sydney, Australia be...</td>\n",
       "      <td>0</td>\n",
       "    </tr>\n",
       "  </tbody>\n",
       "</table>\n",
       "</div>"
      ],
      "text/plain": [
       "                                              text_a  \\\n",
       "0  How is the life of a math student? Could you d...   \n",
       "1                How do I control my horny emotions?   \n",
       "2       What causes stool color to change to yellow?   \n",
       "3                        What can one do after MBBS?   \n",
       "4  Where can I find a power outlet for my laptop ...   \n",
       "\n",
       "                                              text_b label  \n",
       "0  Which level of prepration is enough for the ex...     0  \n",
       "1                 How do you control your horniness?     1  \n",
       "2  What can cause stool to come out as little balls?     0  \n",
       "3                       What do i do after my MBBS ?     1  \n",
       "4  Would a second airport in Sydney, Australia be...     0  "
      ]
     },
     "execution_count": 8,
     "metadata": {},
     "output_type": "execute_result"
    }
   ],
   "source": [
    "train.head()"
   ]
  },
  {
   "cell_type": "code",
   "execution_count": 4,
   "metadata": {},
   "outputs": [
    {
     "name": "stdout",
     "output_type": "stream",
     "text": [
      "Building sklearn classifier...\n",
      "\n",
      " BertClassifier(bert_model='bert-base-uncased', epochs=4, eval_batch_size=8,\n",
      "        fp16=False, gradient_accumulation_steps=1, label_list=None,\n",
      "        learning_rate=2e-05, local_rank=-1, logfile='bert_sklearn.log',\n",
      "        loss_scale=0, max_seq_length=128, num_mlp_hiddens=500,\n",
      "        num_mlp_layers=0, random_state=42, restore_file=None,\n",
      "        train_batch_size=32, use_cuda=True, validation_fraction=0.1,\n",
      "        warmup_proportion=0.1) \n",
      "\n",
      "Loading bert-base-uncased model...\n",
      "Defaulting to linear classifier/regressor\n",
      "train data size: 327465, validation data size: 36384\n"
     ]
    },
    {
     "name": "stderr",
     "output_type": "stream",
     "text": [
      "Training: 100%|██████████| 10234/10234 [2:11:06<00:00,  1.45it/s, loss=0.371] \n",
      "                                                               "
     ]
    },
    {
     "name": "stdout",
     "output_type": "stream",
     "text": [
      "Epoch 1, Train loss : 0.3710, Val loss: 0.2673, Val accy = 88.14%\n"
     ]
    },
    {
     "name": "stderr",
     "output_type": "stream",
     "text": [
      "Training: 100%|██████████| 10234/10234 [2:10:53<00:00,  1.45it/s, loss=0.226] \n",
      "                                                               "
     ]
    },
    {
     "name": "stdout",
     "output_type": "stream",
     "text": [
      "Epoch 2, Train loss : 0.2261, Val loss: 0.2370, Val accy = 89.94%\n"
     ]
    },
    {
     "name": "stderr",
     "output_type": "stream",
     "text": [
      "Training: 100%|██████████| 10234/10234 [2:10:54<00:00,  1.45it/s, loss=0.162] \n",
      "                                                               "
     ]
    },
    {
     "name": "stdout",
     "output_type": "stream",
     "text": [
      "Epoch 3, Train loss : 0.1616, Val loss: 0.2475, Val accy = 90.46%\n"
     ]
    },
    {
     "name": "stderr",
     "output_type": "stream",
     "text": [
      "Training: 100%|██████████| 10234/10234 [2:11:35<00:00,  1.44it/s, loss=0.133] \n",
      "                                                               "
     ]
    },
    {
     "name": "stdout",
     "output_type": "stream",
     "text": [
      "Epoch 4, Train loss : 0.1330, Val loss: 0.2646, Val accy = 90.36%\n"
     ]
    },
    {
     "name": "stderr",
     "output_type": "stream",
     "text": [
      "                                                               \r"
     ]
    },
    {
     "name": "stdout",
     "output_type": "stream",
     "text": [
      "Accuracy: 90.22%\n",
      "               precision    recall  f1-score   support\n",
      "\n",
      "not duplicate       0.92      0.93      0.92     25545\n",
      "    duplicate       0.87      0.86      0.87     14885\n",
      "\n",
      "  avg / total       0.90      0.90      0.90     40430\n",
      "\n",
      "CPU times: user 8h 4min 10s, sys: 4h 10min 59s, total: 12h 15min 10s\n",
      "Wall time: 9h 35min 18s\n"
     ]
    }
   ],
   "source": [
    "%%time\n",
    "\n",
    "X_train = train[['text_a','text_b']]\n",
    "y_train = train['label']\n",
    "\n",
    "# define model\n",
    "model = BertClassifier()\n",
    "model.epochs = 4\n",
    "model.learning_rate = 2e-5\n",
    "model.max_seq_length = 128\n",
    "model.validation_fraction = 0.1\n",
    "\n",
    "print('\\n',model,'\\n')\n",
    "\n",
    "# fit model\n",
    "model.fit(X_train, y_train)\n",
    "\n",
    "# test model on dev\n",
    "test = dev\n",
    "X_test = test[['text_a','text_b']]\n",
    "y_test = test['label']\n",
    "\n",
    "# make predictions\n",
    "y_pred = model.predict(X_test)\n",
    "print(\"Accuracy: %0.2f%%\"%(metrics.accuracy_score(y_pred,y_test) * 100))\n",
    "\n",
    "target_names = ['not duplicate', 'duplicate']\n",
    "print(classification_report(y_test, y_pred, target_names=target_names))"
   ]
  },
  {
   "cell_type": "markdown",
   "metadata": {},
   "source": [
    "## with a MLP..."
   ]
  },
  {
   "cell_type": "code",
   "execution_count": 5,
   "metadata": {},
   "outputs": [
    {
     "name": "stdout",
     "output_type": "stream",
     "text": [
      "Building sklearn classifier...\n",
      "\n",
      " BertClassifier(bert_model='bert-base-uncased', epochs=5, eval_batch_size=8,\n",
      "        fp16=False, gradient_accumulation_steps=1, label_list=None,\n",
      "        learning_rate=2e-05, local_rank=-1, logfile='bert_sklearn.log',\n",
      "        loss_scale=0, max_seq_length=128, num_mlp_hiddens=500,\n",
      "        num_mlp_layers=4, random_state=42, restore_file=None,\n",
      "        train_batch_size=32, use_cuda=True, validation_fraction=0.1,\n",
      "        warmup_proportion=0.1) \n",
      "\n",
      "Loading bert-base-uncased model...\n",
      "Using mlp with D=768,H=500,K=2,n=4\n",
      "train data size: 327465, validation data size: 36384\n"
     ]
    },
    {
     "name": "stderr",
     "output_type": "stream",
     "text": [
      "Training: 100%|██████████| 10233/10233 [2:12:41<00:00,  1.29it/s, loss=0.401] \n",
      "                                                               "
     ]
    },
    {
     "name": "stdout",
     "output_type": "stream",
     "text": [
      "Epoch 1, Train loss : 0.4011, Val loss: 0.2642, Val accy = 88.65%\n"
     ]
    },
    {
     "name": "stderr",
     "output_type": "stream",
     "text": [
      "Training: 100%|██████████| 10233/10233 [2:12:40<00:00,  1.29it/s, loss=0.228] \n",
      "                                                               "
     ]
    },
    {
     "name": "stdout",
     "output_type": "stream",
     "text": [
      "Epoch 2, Train loss : 0.2278, Val loss: 0.2312, Val accy = 90.34%\n"
     ]
    },
    {
     "name": "stderr",
     "output_type": "stream",
     "text": [
      "Training: 100%|██████████| 10233/10233 [2:12:40<00:00,  1.28it/s, loss=0.158] \n",
      "                                                               "
     ]
    },
    {
     "name": "stdout",
     "output_type": "stream",
     "text": [
      "Epoch 3, Train loss : 0.1575, Val loss: 0.2316, Val accy = 90.78%\n"
     ]
    },
    {
     "name": "stderr",
     "output_type": "stream",
     "text": [
      "Training: 100%|██████████| 10233/10233 [2:12:41<00:00,  1.29it/s, loss=0.117] \n",
      "                                                               "
     ]
    },
    {
     "name": "stdout",
     "output_type": "stream",
     "text": [
      "Epoch 4, Train loss : 0.1171, Val loss: 0.2439, Val accy = 90.89%\n"
     ]
    },
    {
     "name": "stderr",
     "output_type": "stream",
     "text": [
      "Training: 100%|██████████| 10233/10233 [2:12:42<00:00,  1.29it/s, loss=0.1]   \n",
      "                                                               "
     ]
    },
    {
     "name": "stdout",
     "output_type": "stream",
     "text": [
      "Epoch 5, Train loss : 0.1004, Val loss: 0.2503, Val accy = 90.84%\n"
     ]
    },
    {
     "name": "stderr",
     "output_type": "stream",
     "text": [
      "                                                               \r"
     ]
    },
    {
     "name": "stdout",
     "output_type": "stream",
     "text": [
      "Accuracy: 90.75%\n",
      "               precision    recall  f1-score   support\n",
      "\n",
      "not duplicate       0.93      0.92      0.93     25545\n",
      "    duplicate       0.87      0.88      0.88     14885\n",
      "\n",
      "  avg / total       0.91      0.91      0.91     40430\n",
      "\n",
      "CPU times: user 10h 17min 43s, sys: 5h 5min 10s, total: 15h 22min 53s\n",
      "Wall time: 12h 5min 3s\n"
     ]
    }
   ],
   "source": [
    "%%time\n",
    "\n",
    "X_train = train[['text_a','text_b']]\n",
    "y_train = train['label']\n",
    "\n",
    "# define model\n",
    "model = BertClassifier()\n",
    "model.epochs = 5\n",
    "model.learning_rate = 2e-5\n",
    "model.max_seq_length = 128\n",
    "model.validation_fraction = 0.1\n",
    "model.num_mlp_layers = 4\n",
    "\n",
    "print('\\n',model,'\\n')\n",
    "\n",
    "# fit model\n",
    "model.fit(X_train, y_train)\n",
    "\n",
    "# test model on dev\n",
    "test = dev\n",
    "X_test = test[['text_a','text_b']]\n",
    "y_test = test['label']\n",
    "\n",
    "# make predictions\n",
    "y_pred = model.predict(X_test)\n",
    "print(\"Accuracy: %0.2f%%\"%(metrics.accuracy_score(y_pred,y_test) * 100))\n",
    "\n",
    "target_names = ['not duplicate', 'duplicate']\n",
    "print(classification_report(y_test, y_pred, target_names=target_names))"
   ]
  }
 ],
 "metadata": {
  "kernelspec": {
   "display_name": "Python 3",
   "language": "python",
   "name": "python3"
  },
  "language_info": {
   "codemirror_mode": {
    "name": "ipython",
    "version": 3
   },
   "file_extension": ".py",
   "mimetype": "text/x-python",
   "name": "python",
   "nbconvert_exporter": "python",
   "pygments_lexer": "ipython3",
   "version": "3.6.7"
  }
 },
 "nbformat": 4,
 "nbformat_minor": 2
}
