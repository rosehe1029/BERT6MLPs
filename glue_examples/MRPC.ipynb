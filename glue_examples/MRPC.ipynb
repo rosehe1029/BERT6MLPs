{
 "cells": [
  {
   "cell_type": "markdown",
   "metadata": {},
   "source": [
    "## MRPC : Microsoft Research Paraphrase Corpus\n",
    "\n",
    "The  Microsoft Research Paraphrase Corpus (MRPC) task is a sentence pair classification task.  It consists of sentence pairs collected from news sources with labels of semantic equivalence.\n",
    "\n",
    "See [website](https://www.microsoft.com/en-us/download/details.aspx?id=52398) and [paper](https://www.aclweb.org/anthology/I/I05/I05-5002.pdf) for more info."
   ]
  },
  {
   "cell_type": "code",
   "execution_count": 1,
   "metadata": {},
   "outputs": [],
   "source": [
    "import numpy as np\n",
    "import pandas as pd\n",
    "import os\n",
    "import sys\n",
    "import csv\n",
    "from sklearn import metrics\n",
    "from sklearn.metrics import classification_report\n",
    "\n",
    "sys.path.append(\"../\") \n",
    "from bert_sklearn import BertClassifier\n",
    "\n",
    "DATADIR = os.getcwd() + '/glue_data'"
   ]
  },
  {
   "cell_type": "markdown",
   "metadata": {},
   "source": [
    "The original glue link for downloading the data no longer wroks. So we are using the suggested alternative link:"
   ]
  },
  {
   "cell_type": "code",
   "execution_count": 2,
   "metadata": {},
   "outputs": [
    {
     "name": "stdout",
     "output_type": "stream",
     "text": [
      "Processing MRPC...\n",
      "\tCompleted!\n"
     ]
    },
    {
     "name": "stderr",
     "output_type": "stream",
     "text": [
      "Cloning into 'paraphrase_identification'...\n"
     ]
    }
   ],
   "source": [
    "%%bash\n",
    "git clone https://github.com/wasiahmad/paraphrase_identification.git\n",
    "python download_glue_data.py --data_dir glue_data --tasks MRPC --path_to_mrpc=paraphrase_identification/dataset/msr-paraphrase-corpus"
   ]
  },
  {
   "cell_type": "code",
   "execution_count": 5,
   "metadata": {},
   "outputs": [
    {
     "name": "stdout",
     "output_type": "stream",
     "text": [
      "MRPC train data size: 3668 \n",
      "MRPC dev data size: 408 \n"
     ]
    }
   ],
   "source": [
    "\"\"\"\n",
    "MRPC train data size: 3668 \n",
    "MRPC dev data size: 408 \n",
    "\"\"\"\n",
    "def read_tsv(filename,quotechar=None):\n",
    "    with open(filename, \"r\", encoding='utf-8') as f:\n",
    "        return list(csv.reader(f,delimiter=\"\\t\",quotechar=quotechar))\n",
    "    \n",
    "def get_mrpc_df(filename,cols = [3, 4, 0]):\n",
    "    rows = read_tsv(filename)\n",
    "    df=pd.DataFrame(rows[1:])\n",
    "    df=df[cols]\n",
    "    df.columns=['text_a','text_b','label']\n",
    "    df = df[pd.notnull(df['label'])]\n",
    "    return df\n",
    "\n",
    "def get_mrpc_data(train_file = DATADIR+'/MRPC/train.tsv', \n",
    "                   dev_file =  DATADIR+'/MRPC/dev.tsv'):\n",
    "    \n",
    "    train = get_mrpc_df(train_file)\n",
    "    print(\"MRPC train data size: %d \"%(len(train)))\n",
    "    dev = get_mrpc_df(dev_file)\n",
    "    print(\"MRPC dev data size: %d \"%(len(dev)))\n",
    "\n",
    "    label_list = np.unique(train['label'].values)\n",
    "    return train,dev,label_list  \n",
    "                  \n",
    "train,dev,label_list =  get_mrpc_data()             "
   ]
  },
  {
   "cell_type": "code",
   "execution_count": 3,
   "metadata": {},
   "outputs": [
    {
     "name": "stdout",
     "output_type": "stream",
     "text": [
      "['0' '1']\n"
     ]
    }
   ],
   "source": [
    "print(label_list)"
   ]
  },
  {
   "cell_type": "code",
   "execution_count": 6,
   "metadata": {},
   "outputs": [
    {
     "data": {
      "text/html": [
       "<div>\n",
       "<style scoped>\n",
       "    .dataframe tbody tr th:only-of-type {\n",
       "        vertical-align: middle;\n",
       "    }\n",
       "\n",
       "    .dataframe tbody tr th {\n",
       "        vertical-align: top;\n",
       "    }\n",
       "\n",
       "    .dataframe thead th {\n",
       "        text-align: right;\n",
       "    }\n",
       "</style>\n",
       "<table border=\"1\" class=\"dataframe\">\n",
       "  <thead>\n",
       "    <tr style=\"text-align: right;\">\n",
       "      <th></th>\n",
       "      <th>text_a</th>\n",
       "      <th>text_b</th>\n",
       "      <th>label</th>\n",
       "    </tr>\n",
       "  </thead>\n",
       "  <tbody>\n",
       "    <tr>\n",
       "      <th>0</th>\n",
       "      <td>Amrozi accused his brother, whom he called \"th...</td>\n",
       "      <td>Referring to him as only \"the witness\", Amrozi...</td>\n",
       "      <td>1</td>\n",
       "    </tr>\n",
       "    <tr>\n",
       "      <th>1</th>\n",
       "      <td>Yucaipa owned Dominick's before selling the ch...</td>\n",
       "      <td>Yucaipa bought Dominick's in 1995 for $693 mil...</td>\n",
       "      <td>0</td>\n",
       "    </tr>\n",
       "    <tr>\n",
       "      <th>2</th>\n",
       "      <td>They had published an advertisement on the Int...</td>\n",
       "      <td>On June 10, the ship's owners had published an...</td>\n",
       "      <td>1</td>\n",
       "    </tr>\n",
       "    <tr>\n",
       "      <th>3</th>\n",
       "      <td>Around 0335 GMT, Tab shares were up 19 cents, ...</td>\n",
       "      <td>Tab shares jumped 20 cents, or 4.6%, to set a ...</td>\n",
       "      <td>0</td>\n",
       "    </tr>\n",
       "    <tr>\n",
       "      <th>4</th>\n",
       "      <td>The stock rose $2.11, or about 11 percent, to ...</td>\n",
       "      <td>PG&amp;E Corp. shares jumped $1.63 or 8 percent to...</td>\n",
       "      <td>1</td>\n",
       "    </tr>\n",
       "  </tbody>\n",
       "</table>\n",
       "</div>"
      ],
      "text/plain": [
       "                                              text_a  \\\n",
       "0  Amrozi accused his brother, whom he called \"th...   \n",
       "1  Yucaipa owned Dominick's before selling the ch...   \n",
       "2  They had published an advertisement on the Int...   \n",
       "3  Around 0335 GMT, Tab shares were up 19 cents, ...   \n",
       "4  The stock rose $2.11, or about 11 percent, to ...   \n",
       "\n",
       "                                              text_b label  \n",
       "0  Referring to him as only \"the witness\", Amrozi...     1  \n",
       "1  Yucaipa bought Dominick's in 1995 for $693 mil...     0  \n",
       "2  On June 10, the ship's owners had published an...     1  \n",
       "3  Tab shares jumped 20 cents, or 4.6%, to set a ...     0  \n",
       "4  PG&E Corp. shares jumped $1.63 or 8 percent to...     1  "
      ]
     },
     "execution_count": 6,
     "metadata": {},
     "output_type": "execute_result"
    }
   ],
   "source": [
    "train.head()"
   ]
  },
  {
   "cell_type": "code",
   "execution_count": 3,
   "metadata": {},
   "outputs": [
    {
     "name": "stdout",
     "output_type": "stream",
     "text": [
      "Building sklearn classifier...\n",
      "Loading bert-base-uncased model...\n",
      "Defaulting to linear classifier/regressor\n",
      "train data size: 3668, validation data size: 0\n"
     ]
    },
    {
     "name": "stderr",
     "output_type": "stream",
     "text": [
      "Training: 100%|██████████| 230/230 [01:30<00:00,  2.98it/s, loss=0.642]\n",
      "Training: 100%|██████████| 230/230 [01:31<00:00,  2.94it/s, loss=0.314]\n",
      "Training: 100%|██████████| 230/230 [01:34<00:00,  2.70it/s, loss=0.168]\n",
      "Training: 100%|██████████| 230/230 [01:37<00:00,  2.83it/s, loss=0.125]\n",
      "                                                           "
     ]
    },
    {
     "name": "stdout",
     "output_type": "stream",
     "text": [
      "Accuracy: 86.76%\n",
      "\n",
      "                precision    recall  f1-score   support\n",
      "\n",
      "not equivalent       0.87      0.68      0.77       129\n",
      "    equivalent       0.87      0.95      0.91       279\n",
      "\n",
      "     micro avg       0.87      0.87      0.87       408\n",
      "     macro avg       0.87      0.82      0.84       408\n",
      "  weighted avg       0.87      0.87      0.86       408\n",
      "\n",
      "CPU times: user 3min 59s, sys: 2min 26s, total: 6min 25s\n",
      "Wall time: 6min 26s\n"
     ]
    },
    {
     "name": "stderr",
     "output_type": "stream",
     "text": [
      "\r"
     ]
    }
   ],
   "source": [
    "%%time\n",
    "X_train = train[['text_a','text_b']] # text pair data\n",
    "y_train = train['label']            # labels\n",
    "\n",
    "# define model\n",
    "model = BertClassifier()\n",
    "model.epochs = 4\n",
    "model.learning_rate = 2e-05\n",
    "model.max_seq_length = 128\n",
    "model.gradient_accumulation_steps = 2\n",
    "model.validation_fraction = 0\n",
    "\n",
    "# fit model\n",
    "model.fit(X_train, y_train)\n",
    "\n",
    "# test model on dev\n",
    "test = dev\n",
    "X_test = test[['text_a','text_b']]\n",
    "y_test = test['label']\n",
    "\n",
    "# make predictions\n",
    "y_pred = model.predict(X_test)\n",
    "print(\"Accuracy: %0.2f%%\\n\"%(metrics.accuracy_score(y_pred,y_test) * 100))\n",
    "\n",
    "target_names = ['not equivalent', 'equivalent']\n",
    "print(classification_report(y_test, y_pred, target_names=target_names))"
   ]
  }
 ],
 "metadata": {
  "kernelspec": {
   "display_name": "Python 3",
   "language": "python",
   "name": "python3"
  },
  "language_info": {
   "codemirror_mode": {
    "name": "ipython",
    "version": 3
   },
   "file_extension": ".py",
   "mimetype": "text/x-python",
   "name": "python",
   "nbconvert_exporter": "python",
   "pygments_lexer": "ipython3",
   "version": "3.6.7"
  }
 },
 "nbformat": 4,
 "nbformat_minor": 2
}
